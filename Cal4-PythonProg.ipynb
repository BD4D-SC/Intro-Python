{
 "cells": [
  {
   "cell_type": "markdown",
   "metadata": {},
   "source": [
    "<center>\n",
    "<a href=\"http://www.insa-toulouse.fr/\" ><img src=\"http://www.math.univ-toulouse.fr/~besse/Wikistat/Images/logo-insa.jpg\" style=\"float:left; max-width: 120px; display: inline\" alt=\"INSA\"/></a> \n",
    "\n",
    "<a href=\"http://wikistat.fr/\" ><img src=\"http://www.math.univ-toulouse.fr/~besse/Wikistat/Images/wikistat.jpg\" style=\"max-width: 250px; display: inline\"  alt=\"Wikistat\"/></a>\n",
    "\n",
    "<a href=\"http://www.math.univ-toulouse.fr/\" ><img src=\"http://www.math.univ-toulouse.fr/~besse/Wikistat/Images/logo_imt.jpg\" style=\"float:right; max-width: 250px; display: inline\" alt=\"IMT\"/> </a>\n",
    "</center>"
   ]
  },
  {
   "cell_type": "markdown",
   "metadata": {},
   "source": [
    "# <a href=\"https://www.python.org/\"><img src=\"https://upload.wikimedia.org/wikipedia/commons/thumb/f/f8/Python_logo_and_wordmark.svg/390px-Python_logo_and_wordmark.svg.png\" style=\"max-width: 200px; display: inline\" alt=\"Python\"/></a> [pour Statistique et Science des Données](https://github.com/wikistat/Intro-Python)"
   ]
  },
  {
   "cell_type": "markdown",
   "metadata": {},
   "source": [
    "# Eléments de programmation en  <a href=\"https://www.python.org/\"><img src=\"https://upload.wikimedia.org/wikipedia/commons/thumb/f/f8/Python_logo_and_wordmark.svg/390px-Python_logo_and_wordmark.svg.png\" style=\"max-width: 150px; display: inline\" alt=\"Python\"/></a> pour Calcul Scientifique - Statistique"
   ]
  },
  {
   "cell_type": "markdown",
   "metadata": {},
   "source": [
    "**Résumé**"
   ]
  },
  {
   "cell_type": "markdown",
   "metadata": {},
   "source": [
    "##  Introduction"
   ]
  },
  {
   "cell_type": "markdown",
   "metadata": {},
   "source": [
    "L'objectif de ce tutoriel est d'introduire quelques outils et concepts plus avancés de la programmation en Python pour mieux en utiliser les fonctionnalités, dans le but d'améliorer la performance du code ou sa lisibilité."
   ]
  },
  {
   "cell_type": "markdown",
   "metadata": {},
   "source": [
    "## Structure De Controle"
   ]
  },
  {
   "cell_type": "markdown",
   "metadata": {},
   "source": [
    "### Boucle For"
   ]
  },
  {
   "cell_type": "markdown",
   "metadata": {},
   "source": [
    "Une boucle for, comme dans la pluspart des langages de programmation permet de pacourrir les éléments d'un objet *itérable*. En python cela peut-être une liste, un tuple, un string (on parcourt alors les différents caractères qui constitue le string), mais également des objets spécialement conçus pour cela, appelés *iterator*.\n",
    "<br/> La structure *for* se présente ainsi:\n",
    "\n",
    "for *variable* in xrange *iterator*: \n",
    "<br/> &nbsp;&nbsp;&nbsp;&nbsp;    satement\n",
    "\n",
    "La ligne *for* se termine par deux points ':'. Le bloc de code à l'intérieur de la boucle est *indentée*. \n"
   ]
  },
  {
   "cell_type": "markdown",
   "metadata": {},
   "source": [
    "#### Parcourir Différentes Strucure"
   ]
  },
  {
   "cell_type": "markdown",
   "metadata": {},
   "source": [
    "##### range, xrange\n",
    "La fonction *xrange* produit un objet *itérator* qui permet de générer des entiers au fur et à mesure des itérations de la boucle."
   ]
  },
  {
   "cell_type": "code",
   "execution_count": 1,
   "metadata": {
    "code_folding": [],
    "collapsed": false
   },
   "outputs": [
    {
     "name": "stdout",
     "output_type": "stream",
     "text": [
      "0 1 2 3 4"
     ]
    },
    {
     "data": {
      "text/plain": [
       "xrange(5)"
      ]
     },
     "execution_count": 1,
     "metadata": {},
     "output_type": "execute_result"
    },
    {
     "name": "stdout",
     "output_type": "stream",
     "text": [
      "\n"
     ]
    }
   ],
   "source": [
    "for i in xrange(5):\n",
    "    print i,\n",
    "xrange(5)"
   ]
  },
  {
   "cell_type": "markdown",
   "metadata": {},
   "source": [
    "La fonction *range* produit une liste d'entier. Elle permet ainsi d'obtenir les même résultats que *xrange* lorsqu'on la parcourt"
   ]
  },
  {
   "cell_type": "code",
   "execution_count": 2,
   "metadata": {
    "collapsed": false
   },
   "outputs": [
    {
     "name": "stdout",
     "output_type": "stream",
     "text": [
      "0 1 2 3 4"
     ]
    },
    {
     "data": {
      "text/plain": [
       "[0, 1, 2, 3, 4]"
      ]
     },
     "execution_count": 2,
     "metadata": {},
     "output_type": "execute_result"
    },
    {
     "name": "stdout",
     "output_type": "stream",
     "text": [
      "\n"
     ]
    }
   ],
   "source": [
    "for i in range(5):\n",
    "    print i,\n",
    "range(5)"
   ]
  },
  {
   "cell_type": "markdown",
   "metadata": {},
   "source": [
    "La fonction *range* produit une liste. La fonction *xrange* ne génère pas cette liste et permet donc d'itérer plus rapidement à travers les mêmes éléments.\n",
    "Attention cependant, sous python3, la fonction *range* retourne également un objet itérable.\n",
    "\n",
    "On remarquera que l'appel à la fonction range(n) permet d'itérer sur les entiers de 0 à n-1. Ces deux fonctions permettent également de spécifier les intervalles sur lesquelles on itére et la valeur de chaque pas d'itération."
   ]
  },
  {
   "cell_type": "code",
   "execution_count": 50,
   "metadata": {
    "collapsed": false
   },
   "outputs": [
    {
     "name": "stdout",
     "output_type": "stream",
     "text": [
      "[3, 4, 5, 6, 7, 8, 9] [2, 4, 6, 8, 10] [10, 9, 8, 7, 6, 5, 4, 3, 2, 1]\n"
     ]
    }
   ],
   "source": [
    "print range(3,10), # Compte de 3 à 9\n",
    "print range(2,11,2), # Compte de 2 à 10 et de 2 en 2\n",
    "print range(10,0,-1) # Compte de 10 à 1"
   ]
  },
  {
   "cell_type": "markdown",
   "metadata": {},
   "source": [
    "##### Strings\n",
    "Les objets *string* sont également des objets que l'on peut parcourcir avec la boucle for. On extrait alors un par un tout les caractère qui constitue le string."
   ]
  },
  {
   "cell_type": "code",
   "execution_count": 4,
   "metadata": {
    "collapsed": false
   },
   "outputs": [
    {
     "name": "stdout",
     "output_type": "stream",
     "text": [
      "H i   T h e r e !\n"
     ]
    }
   ],
   "source": [
    "for character in \"Hi There!\":\n",
    "    print character,"
   ]
  },
  {
   "cell_type": "markdown",
   "metadata": {},
   "source": [
    "##### Dictionnaires\n",
    "On ne peut pas parcourir directement un dictionnaire. Cependant, comme la pluspart des objets python, les dictionnaires possèdent des méthodes permettant de transformer le dictionnaire en liste.\n",
    "* .items()\n",
    "* .keys()\n",
    "* .values()\n",
    "\n",
    "ou *iterator*\n",
    "\n",
    "* .iteritems()\n",
    "* .iterkeys()\n",
    "* .itervalues()\n",
    "\n",
    "\n",
    "Les dictionnaires n'ont pas de structure ordonnée, les valeurs ne s'affichent pas forcément dans l'ordre dans lequel on les a entrées."
   ]
  },
  {
   "cell_type": "code",
   "execution_count": 51,
   "metadata": {
    "collapsed": false
   },
   "outputs": [
    {
     "name": "stdout",
     "output_type": "stream",
     "text": [
      "a c b\n"
     ]
    }
   ],
   "source": [
    "dico={\"a\":1,\"b\":2,\"c\":3}\n",
    "for k in dico.iterkeys():\n",
    "    print k,"
   ]
  },
  {
   "cell_type": "markdown",
   "metadata": {},
   "source": [
    "Les méthodes *.items()* et *.iteritems()* permettent de parcourir les couple clés objets des dictionnaires."
   ]
  },
  {
   "cell_type": "code",
   "execution_count": 52,
   "metadata": {
    "collapsed": false
   },
   "outputs": [
    {
     "name": "stdout",
     "output_type": "stream",
     "text": [
      "('a', 1) ('c', 3) ('b', 2)\n"
     ]
    }
   ],
   "source": [
    "# Si l'on spécifie une seule variable itérative, celle-ci sera un tuple.\n",
    "for kv in dico.iteritems():\n",
    "    print kv,"
   ]
  },
  {
   "cell_type": "code",
   "execution_count": 53,
   "metadata": {
    "collapsed": false
   },
   "outputs": [
    {
     "name": "stdout",
     "output_type": "stream",
     "text": [
      "a 1 c 3 b 2\n"
     ]
    }
   ],
   "source": [
    "# Si l'on spécifie deux variables itératives, la première sera la clé et la seconde la valeur correspondante\n",
    "for k,v in dico.iteritems():\n",
    "    print k,\n",
    "    print v,"
   ]
  },
  {
   "cell_type": "code",
   "execution_count": 55,
   "metadata": {
    "collapsed": false
   },
   "outputs": [
    {
     "name": "stdout",
     "output_type": "stream",
     "text": [
      "a c b\n"
     ]
    }
   ],
   "source": [
    "# Si l'on sait que la clé ou la valeur du dictionnaire ne sera pas nécessaire, on peut ne pas la scoker dans une variable en utilisant \"_\"\n",
    "for k,_ in dico.iteritems():\n",
    "    print k,"
   ]
  },
  {
   "cell_type": "markdown",
   "metadata": {},
   "source": [
    "##### Numpy Array\n",
    "Pour parcourir tous les éléments d'un array *Numpy* on utilise la fonction *nditer*."
   ]
  },
  {
   "cell_type": "code",
   "execution_count": 57,
   "metadata": {
    "collapsed": false
   },
   "outputs": [
    {
     "name": "stdout",
     "output_type": "stream",
     "text": [
      "0 1 2 3 4 5\n"
     ]
    }
   ],
   "source": [
    "import numpy as np\n",
    "a = np.arange(6).reshape(2,3)\n",
    "for x in np.nditer(a):\n",
    "    print x,"
   ]
  },
  {
   "cell_type": "markdown",
   "metadata": {},
   "source": [
    "Appliquer directement la boucle *for* sur l'array Numpy permet de parcourir les différentes lignes de cet array"
   ]
  },
  {
   "cell_type": "code",
   "execution_count": 58,
   "metadata": {
    "collapsed": false
   },
   "outputs": [
    {
     "name": "stdout",
     "output_type": "stream",
     "text": [
      "[0 1 2] [3 4 5]\n"
     ]
    }
   ],
   "source": [
    "for x in a:\n",
    "    print x,"
   ]
  },
  {
   "cell_type": "markdown",
   "metadata": {},
   "source": [
    "Enfin pour parcourir une colonne, la métode la plus simple consiste à parcourir les lignes de la matrice transposée"
   ]
  },
  {
   "cell_type": "code",
   "execution_count": 59,
   "metadata": {
    "collapsed": false
   },
   "outputs": [
    {
     "name": "stdout",
     "output_type": "stream",
     "text": [
      "[0 3] [1 4] [2 5]\n"
     ]
    }
   ],
   "source": [
    "for x in a.T:\n",
    "    print x,"
   ]
  },
  {
   "cell_type": "markdown",
   "metadata": {},
   "source": [
    "Il est cependant très important de comprendre que les arrays numpys ont été conçus pour appliquer des fonctions sur l'ensemble de l'array directement. Ainsi nombre de fonction native permette de résoudre de nombreux problèmes sans avoir à parcourir l'ensemble de la matrice. Ainsi certaines fonction natives tel que *sum*, *max*, etc... permettent d'obtenir les résultats escompter de manière bien plus rapide qu'en utilisant les boucles for."
   ]
  },
  {
   "cell_type": "code",
   "execution_count": 60,
   "metadata": {
    "collapsed": false
   },
   "outputs": [
    {
     "name": "stdout",
     "output_type": "stream",
     "text": [
      "(5, array([2, 5]), array([3, 4, 5]))\n"
     ]
    }
   ],
   "source": [
    "mina = a.max()              # Retourne la valeur maximum de l'array a\n",
    "minxa = a.max(axis=1)       # Retourne la valeur maximum de chaque ligne de l'array a\n",
    "minya = a.max(axis=0)       # Retourne la valeur maximum de chaque colonne de l'array a\n",
    "print(mina, minxa, minya)"
   ]
  },
  {
   "cell_type": "markdown",
   "metadata": {},
   "source": [
    "Lorsque l'on souhaite appliquer des fonctions plus complexes sur chaque ligne et/ou colonne de l'array, il existe également des fonctions native de la librairie *numpy* permettant d'appliquer ces fonctions efficacement."
   ]
  },
  {
   "cell_type": "code",
   "execution_count": 62,
   "metadata": {
    "collapsed": false
   },
   "outputs": [
    {
     "name": "stdout",
     "output_type": "stream",
     "text": [
      "(array([[0, 2, 4],\n",
      "       [2, 2, 3],\n",
      "       [0, 3, 3]]), array([[-1.22474487,  0.        ,  1.22474487],\n",
      "       [-0.70710678, -0.70710678,  1.41421356],\n",
      "       [-1.41421356,  0.70710678,  0.70710678]]))\n"
     ]
    }
   ],
   "source": [
    "def scale(x):\n",
    "    xcr = (x-np.mean(x))/np.std(x)\n",
    "    return xcr\n",
    "X = np.random.randint(5, size=(3, 3))\n",
    "Xcr = np.apply_along_axis(scale,1,X)\n",
    "print(X, Xcr)"
   ]
  },
  {
   "cell_type": "markdown",
   "metadata": {},
   "source": [
    "##### Pandas DataFrame\n",
    "De la même manière que pour les arrays *numpy*, les DataFrame *Pandas* ne sont pas conçues pour être parcourues facilement. Il est, là encore, préférable d'utiliser au maximum les méthodes natives de pandas et de numpy ou de convertir au préalables les colonnes souhaitées en listes. \n",
    "<br> Il éxiste cependant deux fonctions permettant de parcourir les différentes colonnes d'une DataFrame pandas:\n",
    "\n",
    "* iterrows(): retourne le couple index, ligne. Chaque ligne est parcourue sour forme d'objet Series de pandas. Se construction est très couteuse et rend la méthode très lente .\n",
    "* itertuples(): retoure un object specifique Pandas, où l'index, et les valeurs des colonnes de chaque ligne est accesible via des méthodes spécifiques. Plus rapide que iterrows."
   ]
  },
  {
   "cell_type": "code",
   "execution_count": 63,
   "metadata": {
    "collapsed": false
   },
   "outputs": [
    {
     "name": "stdout",
     "output_type": "stream",
     "text": [
      "(1, Letter    A\n",
      "Number    4\n",
      "Name: 1, dtype: object)\n",
      "(2, Letter    B\n",
      "Number    5\n",
      "Name: 2, dtype: object)\n",
      "(3, Letter    C\n",
      "Number    6\n",
      "Name: 3, dtype: object)\n",
      "Pandas(Index=1, Letter='A', Number=4)\n",
      "Pandas(Index=2, Letter='B', Number=5)\n",
      "Pandas(Index=3, Letter='C', Number=6)\n"
     ]
    }
   ],
   "source": [
    "import pandas as pd\n",
    "df = pd.DataFrame([[\"A\",4],[\"B\",5],[\"C\",6]],index=[1,2,3],columns=[\"Letter\",\"Number\"])\n",
    "\n",
    "for i,r in df.iterrows():\n",
    "    print(i,r)\n",
    "\n",
    "for ir in df.itertuples():\n",
    "    print(ir)"
   ]
  },
  {
   "cell_type": "markdown",
   "metadata": {},
   "source": [
    "#### Itertools Library\n",
    "La librairie native de python *itertools* possède de nombreuses fonctions générant des *iterators*. \n",
    "Plus d'exemples ici https://docs.python.org/2/library/itertools.html"
   ]
  },
  {
   "cell_type": "code",
   "execution_count": 64,
   "metadata": {
    "collapsed": false
   },
   "outputs": [
    {
     "name": "stdout",
     "output_type": "stream",
     "text": [
      "izip\n",
      "[('A', 1, 'w'), ('B', 2, 'x'), ('C', 3, 'y'), ('D', 4, 'z')]\n",
      "permutations\n",
      "[('A', 'B'), ('A', 'C'), ('A', 'D'), ('B', 'A'), ('B', 'C'), ('B', 'D'), ('C', 'A'), ('C', 'B'), ('C', 'D'), ('D', 'A'), ('D', 'B'), ('D', 'C')]\n"
     ]
    }
   ],
   "source": [
    "import itertools\n",
    "#izip : Concatenante les éléments de plusieurs objets itéables\n",
    "izip_list = []\n",
    "for k in itertools.izip('ABCD',[1,2,3,4],\"wxyz\"):\n",
    "    izip_list.append(k)\n",
    "print(\"izip\")\n",
    "print(izip_list)\n",
    "\n",
    "#permutation : retourne toutes les arrangements possible de liste de longueur n.\n",
    "permutation_list = []\n",
    "for k in itertools.permutations(\"ABCD\",2):\n",
    "    permutation_list.append(k)\n",
    "print(\"permutations\")\n",
    "print(permutation_list)"
   ]
  },
  {
   "cell_type": "markdown",
   "metadata": {},
   "source": [
    "#### One-Line Statement\n",
    "Après avoir parouru différents éléments d'un objet itérable et que l'on souhaite enregistrer un résultat pour chaque étape dans une liste, il est possible d'écrire la boucle *for* sur une seule ligne de la manière suivante:\n",
    "\n",
    "[result *for* variable in *iterator*]"
   ]
  },
  {
   "cell_type": "code",
   "execution_count": 65,
   "metadata": {
    "collapsed": false
   },
   "outputs": [
    {
     "name": "stdout",
     "output_type": "stream",
     "text": [
      "([0, 1, 4, 9, 16, 25, 36, 49, 64, 81], [0, 1, 4, 9, 16, 25, 36, 49, 64, 81])\n"
     ]
    }
   ],
   "source": [
    "# Version1\n",
    "A1=[]\n",
    "for k in range(10):\n",
    "    A1.append(k*k)\n",
    "    \n",
    "# Version 2\n",
    "A2 = [k*k for k in range(10)]\n",
    "print(A1,A2)"
   ]
  },
  {
   "cell_type": "markdown",
   "metadata": {},
   "source": [
    "#### Augmented Assignment\n",
    "Des expressions telles que x = x + 1 ou x = x - 2 apparaissent très souvent dans le corps des boucle. Le language Python permet de simplifier ces notations."
   ]
  },
  {
   "cell_type": "code",
   "execution_count": 66,
   "metadata": {
    "collapsed": false
   },
   "outputs": [],
   "source": [
    "a = 17\n",
    "s = \"hi\"\n",
    "a += 3           # Equivalent to a = a + 3\n",
    "a -= 3           # Equivalent to a = a - 3\n",
    "a *= 3           # Equivalent to a = a * 3\n",
    "a /= 3           # Equivalent to a = a / 3\n",
    "a %= 3           # Equivalent to a = a % 3\n",
    "s += \" there\"    # Equivalent to s = s + “ there\""
   ]
  },
  {
   "cell_type": "markdown",
   "metadata": {},
   "source": [
    "### While\n",
    "La boucle *for* permet de parcourir l'ensemble des éléments d'un objet itérable, ou un nombre déterminé d'éléments de ce dernier. Cependant, ce nombre n'est pas toujours prévisible. On veut alors pouvoir parcourir ces éléments, et arrêter le parcours lorsqu'une condition est respéctée ou non. On utilise alors l'instruction *while*:\n",
    "\n",
    "while *condition*:\n",
    "<br/> &nbsp;&nbsp;&nbsp;&nbsp;    statements\n",
    "\n",
    "Cette instruction permet de répéter en boucle le code \"statements\" jusqu'à ce que la *condition* soit remplie"
   ]
  },
  {
   "cell_type": "code",
   "execution_count": 67,
   "metadata": {
    "collapsed": false
   },
   "outputs": [
    {
     "name": "stdout",
     "output_type": "stream",
     "text": [
      "100001\n"
     ]
    }
   ],
   "source": [
    "#On incrémente la variable count de 1, jusqu'à ce que celle-ci dépasse la valeur 100.000\n",
    "count = 1 \n",
    "while count <= 100000: \n",
    "    count += 1 \n",
    "print count"
   ]
  },
  {
   "cell_type": "markdown",
   "metadata": {},
   "source": [
    "L'instruction \"Break\" permet de sortir de la boucle *while* même si sa condition est respecté."
   ]
  },
  {
   "cell_type": "code",
   "execution_count": 69,
   "metadata": {
    "collapsed": false
   },
   "outputs": [
    {
     "name": "stdout",
     "output_type": "stream",
     "text": [
      "Enter the numeric grade: 200\n",
      "Error: grade must be between 100 and 0\n",
      "200\n",
      "Enter the numeric grade: 300\n",
      "Error: grade must be between 100 and 0\n",
      "300\n",
      "Enter the numeric grade: 400\n",
      "Error: grade must be between 100 and 0\n",
      "400\n",
      "Enter the numeric grade: 1\n"
     ]
    }
   ],
   "source": [
    "while True: \n",
    "    number = input(\"Enter the numeric grade: \") \n",
    "    if number >= 0 and number <= 100:\n",
    "        break\n",
    "    else:\n",
    "        print \"Error: grade must be between 100 and 0\" \n",
    "    print number"
   ]
  },
  {
   "cell_type": "markdown",
   "metadata": {},
   "source": [
    "### If - Else\n",
    "L'instruction conditionelle *if-else* est une des plus communes en programmation informatique. En python, elle se présente sous la forme suivante:\n",
    "\n",
    "if *condition*:\n",
    "<br/> &nbsp;&nbsp;&nbsp;&nbsp;   statement1\n",
    "<br/> else:\n",
    "<br/> &nbsp;&nbsp;&nbsp;&nbsp;    statement 2\n"
   ]
  },
  {
   "cell_type": "code",
   "execution_count": 70,
   "metadata": {
    "collapsed": false
   },
   "outputs": [
    {
     "name": "stdout",
     "output_type": "stream",
     "text": [
      "True\n"
     ]
    }
   ],
   "source": [
    "number=1\n",
    "if number==1:\n",
    "    print True\n",
    "else:\n",
    "    print False"
   ]
  },
  {
   "cell_type": "markdown",
   "metadata": {},
   "source": [
    "Lorsque plus de deux alternative sont possibles, on utilise la commande *elif* pour énumérer les différentes possibilités."
   ]
  },
  {
   "cell_type": "code",
   "execution_count": 71,
   "metadata": {
    "collapsed": false
   },
   "outputs": [
    {
     "name": "stdout",
     "output_type": "stream",
     "text": [
      "C\n"
     ]
    }
   ],
   "source": [
    "number=13\n",
    "if number<5:\n",
    "    print(\"A\")\n",
    "elif number <10:\n",
    "    print(\"B\")\n",
    "elif number <20:\n",
    "    print(\"C\")\n",
    "else:\n",
    "    print(\"D\")"
   ]
  },
  {
   "cell_type": "markdown",
   "metadata": {},
   "source": [
    "#### One-Line Statement\n",
    "Comme pour la boucle for, il est possible d'écrire l'instruction *if_else* en une seule ligne lorsque le code est simple."
   ]
  },
  {
   "cell_type": "code",
   "execution_count": 72,
   "metadata": {
    "collapsed": false
   },
   "outputs": [
    {
     "data": {
      "text/plain": [
       "'B'"
      ]
     },
     "execution_count": 72,
     "metadata": {},
     "output_type": "execute_result"
    }
   ],
   "source": [
    "number=10\n",
    "\"A\" if number >10 else \"B\""
   ]
  },
  {
   "cell_type": "markdown",
   "metadata": {},
   "source": [
    "#### One line with for Loop\n",
    "Différentes combinaisons sont possibles pour associer à la fois l'instruction *if_else* avec une boucle *for* en une ligne."
   ]
  },
  {
   "cell_type": "code",
   "execution_count": 73,
   "metadata": {
    "collapsed": false
   },
   "outputs": [
    {
     "data": {
      "text/plain": [
       "[0, 2, 4, 6, 8]"
      ]
     },
     "execution_count": 73,
     "metadata": {},
     "output_type": "execute_result"
    }
   ],
   "source": [
    "#Sélectionne uniquement les valeur paire\n",
    "l1 = [k for k in range(10) if k%2==0]\n",
    "l1"
   ]
  },
  {
   "cell_type": "code",
   "execution_count": 74,
   "metadata": {
    "collapsed": false
   },
   "outputs": [
    {
     "data": {
      "text/plain": [
       "['even', 'odd', 'even', 'odd', 'even', 'odd', 'even', 'odd', 'even', 'odd']"
      ]
     },
     "execution_count": 74,
     "metadata": {},
     "output_type": "execute_result"
    }
   ],
   "source": [
    "#Retourne \"even\" si l'élement k est pair, \"odd\" sinon.\n",
    "l2 = [\"even\" if k%2==0 else \"odd\" for k in range(10)]\n",
    "l2"
   ]
  },
  {
   "cell_type": "markdown",
   "metadata": {},
   "source": [
    "## High Order Fonctions \n",
    "Dans cette partie nous étudierons ce que l'on appel des \"higher-order function\". Ces function, permettent d'éxecuter rapidement des pattern communs à la programation. \n",
    "* Appliquer la même fonction au élément d'une liste\n",
    "* Séléctionner, ou non, les différents éléments d'une liste selon une certaine condition\n",
    "* etc...\n",
    "\n",
    "Une \"higher-order function\" permet d'appliquer rapidement ce type d'action et retourner le résultat correspondant. "
   ]
  },
  {
   "cell_type": "markdown",
   "metadata": {},
   "source": [
    "### Map\n",
    "\n",
    "La première de cette fonction est la fonction *map*. Elle permet d'appliquer une fonction sur toutes les valeurs d'une liste et retourne une nouvelle liste avec les résultats correspondant.\n"
   ]
  },
  {
   "cell_type": "code",
   "execution_count": 75,
   "metadata": {
    "collapsed": false
   },
   "outputs": [
    {
     "name": "stdout",
     "output_type": "stream",
     "text": [
      "([-4, 6, -6, -10, 3, -3, 3, -3, -5, -10], [4, 6, 6, 10, 3, 3, 3, 3, 5, 10])\n"
     ]
    }
   ],
   "source": [
    "import random\n",
    "numbers = [random.randrange(-10,10) for k in xrange(10)]\n",
    "abs_numbers = map(abs,numbers) # Applique la fonction \"valeur absolue\" à tout les élements de la liste\n",
    "print(numbers,abs_numbers)"
   ]
  },
  {
   "cell_type": "code",
   "execution_count": 76,
   "metadata": {
    "collapsed": false
   },
   "outputs": [
    {
     "data": {
      "text/plain": [
       "['Jason', 'Bryan', 'Hercule', 'Karim']"
      ]
     },
     "execution_count": 76,
     "metadata": {},
     "output_type": "execute_result"
    }
   ],
   "source": [
    "def first_capital_letters(txt):\n",
    "    if txt[0].islower():\n",
    "        txt = txt[0].upper()+txt[1:]\n",
    "    return txt\n",
    "\n",
    "name=[\"Jason\",\"bryan\",\"hercule\",\"Karim\"]\n",
    "map(first_capital_letters,name)"
   ]
  },
  {
   "cell_type": "markdown",
   "metadata": {},
   "source": [
    "### Filter\n",
    "\n",
    "La fonction *filter* permet d'appliquer une fonction test à chaque valeur d'une liste. Si la fonction test est positive, la valeur est ajoutée dans une nouvelle liste. Sinon la valeur n'est pas prise en compte. La nouvelle liste, constitué de toutes les valeures \"positive\" selon la fonction test, est retournée."
   ]
  },
  {
   "cell_type": "code",
   "execution_count": 77,
   "metadata": {
    "collapsed": false
   },
   "outputs": [
    {
     "data": {
      "text/plain": [
       "[1, 3, 5, 7, 9]"
      ]
     },
     "execution_count": 77,
     "metadata": {},
     "output_type": "execute_result"
    }
   ],
   "source": [
    "def is_odd(n):\n",
    "    return n % 2 == 1\n",
    "filter(is_odd,range(10))"
   ]
  },
  {
   "cell_type": "markdown",
   "metadata": {},
   "source": [
    "### Reduce "
   ]
  },
  {
   "cell_type": "markdown",
   "metadata": {},
   "source": [
    "La dernière fonction est la fonction *reduce*. Cette méthode est loin d'être intuitive.\n",
    "Le meilleur moyen de comprendre cette fonction est d'utiliser un exemple.\n",
    "\n",
    "Dans cet exemple nous souhaitons calculer la somme de tous les entier de 0 à 9.\n",
    "<br> On génére dans un premier temps la liste contenant tout ces éléments. r10 = [0,1,2,3,4,5,6,7,8,9]\n",
    "<br> La fonction *reduce*, va dans un premier temps exécuter la fonction *sum_and_print* sur les deux premiers éléments de la liste. \n",
    "<br> Elle va ensuite appliquer la fonction *sum_and_print* sur le résultat de la première opération et sur le 3ème éléments de la liste.\n",
    "<br> Elle va ensuite appliquer la fonction *sum_and_print* sur le résultat de la seconde opération et sur le 4ème éléments de la liste.\n",
    "<br> Et ainsi de suite jusqu'à ce que tous les éléments de la liste est été parcouru\n",
    "\n",
    "Ainsi la fonction *reduce* prend en entrée une fonction qui contient forcément 2 variables.\n"
   ]
  },
  {
   "cell_type": "code",
   "execution_count": 78,
   "metadata": {
    "collapsed": false,
    "scrolled": true
   },
   "outputs": [
    {
     "name": "stdout",
     "output_type": "stream",
     "text": [
      "('Input: ', 0, 1)\n",
      "('Output: ', 1)\n",
      "('Input: ', 1, 2)\n",
      "('Output: ', 2)\n",
      "('Input: ', 3, 3)\n",
      "('Output: ', 3)\n",
      "('Input: ', 6, 4)\n",
      "('Output: ', 4)\n",
      "('Input: ', 10, 5)\n",
      "('Output: ', 5)\n",
      "('Input: ', 15, 6)\n",
      "('Output: ', 6)\n",
      "('Input: ', 21, 7)\n",
      "('Output: ', 7)\n",
      "('Input: ', 28, 8)\n",
      "('Output: ', 8)\n",
      "('Input: ', 36, 9)\n",
      "('Output: ', 9)\n",
      "45\n"
     ]
    }
   ],
   "source": [
    "def sum_and_print(x,y):\n",
    "    print(\"Input: \", x,y)\n",
    "    print(\"Output: \", y)\n",
    "    return x+y\n",
    "\n",
    "r10 = range(10)\n",
    "res =reduce(sum_and_print, r10)\n",
    "print(res)"
   ]
  },
  {
   "cell_type": "markdown",
   "metadata": {},
   "source": [
    "Par défaut, la fonction passé en paramètre de la fonction *reduce* effectue sa première opérations sur les deux premiers éléments de la listes passé en paramètre. Mais il est possible de spécifier une valeur initiale. La première opération sera alors effectuée sur cette valeur initiale et le premier élément de la liste."
   ]
  },
  {
   "cell_type": "code",
   "execution_count": 79,
   "metadata": {
    "collapsed": false
   },
   "outputs": [
    {
     "name": "stdout",
     "output_type": "stream",
     "text": [
      "1045\n"
     ]
    }
   ],
   "source": [
    "def somme(x,y):\n",
    "    return x+y\n",
    "\n",
    "r10 = range(10)\n",
    "res =reduce(somme, r10,1000)\n",
    "print(res)"
   ]
  },
  {
   "cell_type": "markdown",
   "metadata": {},
   "source": [
    "### Lambda Function"
   ]
  },
  {
   "cell_type": "markdown",
   "metadata": {},
   "source": [
    "L'utilisation de ces \"high-order\" fonctions permet de vraiment simplifier le code. Mais il est parfois couteux de définir une nouvelle fonction qui ne seront parfois pas réutiliser, comme par exemple la fonction somme de l'exemple précédent.\n",
    "L'appel *lambda* permet de créer une fonction de façon temporaire. La définitions de ces fonctions est assez restrictive, puisqu'elle implique une définition sur une seule ligne, et ne permet pas d'assignation. \n",
    "\n",
    "Ainsi les précédents exemple peuvent-être ré-écrit de la manière suivante:"
   ]
  },
  {
   "cell_type": "code",
   "execution_count": 80,
   "metadata": {
    "collapsed": false
   },
   "outputs": [
    {
     "data": {
      "text/plain": [
       "['Jason', 'Bryan', 'Hercule', 'Karim']"
      ]
     },
     "execution_count": 80,
     "metadata": {},
     "output_type": "execute_result"
    }
   ],
   "source": [
    "name=[\"Jason\",\"bryan\",\"hercule\",\"Karim\"]\n",
    "map(lambda x : x[0].upper()+x[1:] if x[0].islower() else x,name)"
   ]
  },
  {
   "cell_type": "code",
   "execution_count": 81,
   "metadata": {
    "collapsed": false
   },
   "outputs": [
    {
     "data": {
      "text/plain": [
       "[1, 3, 5, 7, 9]"
      ]
     },
     "execution_count": 81,
     "metadata": {},
     "output_type": "execute_result"
    }
   ],
   "source": [
    "filter(lambda x : x % 2 == 1 ,range(10))"
   ]
  },
  {
   "cell_type": "code",
   "execution_count": 83,
   "metadata": {
    "collapsed": false
   },
   "outputs": [
    {
     "data": {
      "text/plain": [
       "1045"
      ]
     },
     "execution_count": 83,
     "metadata": {},
     "output_type": "execute_result"
    }
   ],
   "source": [
    "r10 = range(10)\n",
    "res =reduce(lambda x,y:x+y, r10,1000)\n",
    "res"
   ]
  },
  {
   "cell_type": "markdown",
   "metadata": {},
   "source": [
    "## 4 Classes et objets\n",
    "Les classes sont des objets communs à tout les langages orientés objets. Ce sont des objets constitués d'attributs, des paramètres fixes, de différentes natures, attribués à l'objet, et de différentes méthode, des fonctions qui permettent d'appliquer des transformations sur ces attributs. \n",
    "\n",
    "Ci dessous on définit une classe \"Elève\" dans laquelle un élève est décrit par son nom, son prénom et ses notes. On notera la convention de nommage des méthodes qui commence par une minuscule, mais qui possède une majuscule à chaque début de nouveau mot. "
   ]
  },
  {
   "cell_type": "code",
   "execution_count": 84,
   "metadata": {
    "collapsed": true
   },
   "outputs": [],
   "source": [
    "class Eleve:\n",
    "    \"\"\"Classe définissant un élève caractérisé par:\n",
    "        - son nom\n",
    "        - son prénom\n",
    "        - ses notes\n",
    "     \"\"\"  \n",
    "    \n",
    "    def __init__(self, nom, prenom): #constructeur de la classe\n",
    "        \"\"\" Construit un élève avec les nom et prenom passé en paramètre et une liste de notes vide.\"\"\"\n",
    "        self._nom = nom\n",
    "        self._prenom=prenom\n",
    "        self._notes = []\n",
    "        \n",
    "    def getNom(self):\n",
    "        \"\"\" retourne le nom de l'élève \"\"\"\n",
    "        return self._nom\n",
    "    \n",
    "    def getNotes(self):\n",
    "        \"\"\" retourne les notes de l'élève\"\"\"\n",
    "        return self._notes\n",
    "    \n",
    "    def getNoteMax(self):\n",
    "        \"\"\" retourne la note max de l'élève\"\"\"\n",
    "        return max(self._notes)\n",
    "    \n",
    "    def getMean(self):\n",
    "        \"\"\" retourne la moyenne de l'élève\"\"\"\n",
    "        return np.mean(self._notes)\n",
    "    \n",
    "    def getNbNote(self):\n",
    "        \"\"\" retourne le nombre de note de l'élève\"\"\"\n",
    "        return len(self._notes)\n",
    "    \n",
    "    def addNote(self, note):\n",
    "        \"\"\" ajoute la note 'note' à la liste de note de l'élève\"\"\"\n",
    "        self._notes.append(note)"
   ]
  },
  {
   "cell_type": "markdown",
   "metadata": {},
   "source": [
    "Toutes les classes sont composés d'un constructeur qui a pour nom \\_\\_init\\_\\_. Il s'agit d'une méthode spéciale, Une méthodes d'instance que Python reconnaît et sait utiliser, dans certains contextes. La fonciton \\_\\_init\\_\\_ est automatiquement appelée à la création d'une nouvelle classe et qui prend en paramètre \"self\", qui représente l'objet instantié, et les différents attributs nécessaire à se création."
   ]
  },
  {
   "cell_type": "code",
   "execution_count": 33,
   "metadata": {
    "collapsed": false
   },
   "outputs": [
    {
     "data": {
      "text/plain": [
       "'Jean'"
      ]
     },
     "execution_count": 33,
     "metadata": {},
     "output_type": "execute_result"
    }
   ],
   "source": [
    "eleve1 = Eleve(\"Jean\",\"Bon\")\n",
    "eleve1._nom"
   ]
  },
  {
   "cell_type": "markdown",
   "metadata": {},
   "source": [
    "Les attributs de la classe sont directement accessible de la manière suivante:\n",
    "\n",
    "objet.nomDeLAtribbut\n",
    "\n",
    "Cependant, par convention il est conseillé de définir une méthode pour avoir accès à cet objet.\n",
    "Les méthodes qui permettent d'accéder à des attributs de l'objets sont appelés des \"accessors\". Dans la classe élève, les méthodes commençant par \"get\" sont des accessors."
   ]
  },
  {
   "cell_type": "code",
   "execution_count": 34,
   "metadata": {
    "collapsed": false
   },
   "outputs": [
    {
     "data": {
      "text/plain": [
       "'Jean'"
      ]
     },
     "execution_count": 34,
     "metadata": {},
     "output_type": "execute_result"
    }
   ],
   "source": [
    "eleve1.getNom()"
   ]
  },
  {
   "cell_type": "markdown",
   "metadata": {},
   "source": [
    "Les méthodes qui permettent de modifier les attributs de objet sont appelées des \"mutators\". La fonction addNote, qui permet d'ajouter une note à la liste de notes de l'élève est un mutators."
   ]
  },
  {
   "cell_type": "code",
   "execution_count": 35,
   "metadata": {
    "collapsed": false
   },
   "outputs": [
    {
     "name": "stdout",
     "output_type": "stream",
     "text": [
      "[] [15]\n"
     ]
    }
   ],
   "source": [
    "print eleve1.getNotes(),\n",
    "eleve1.addNote(15)\n",
    "print eleve1.getNotes(),"
   ]
  },
  {
   "cell_type": "code",
   "execution_count": 36,
   "metadata": {
    "collapsed": false
   },
   "outputs": [],
   "source": [
    "for k in xrange(10):\n",
    "    eleve1.addNote(np.random.randint(20))"
   ]
  },
  {
   "cell_type": "code",
   "execution_count": 37,
   "metadata": {
    "collapsed": false
   },
   "outputs": [
    {
     "name": "stdout",
     "output_type": "stream",
     "text": [
      "11 18 11.4545454545\n"
     ]
    }
   ],
   "source": [
    "print eleve1.getNbNote(),\n",
    "print eleve1.getNoteMax(),\n",
    "print eleve1.getMean(),"
   ]
  },
  {
   "cell_type": "markdown",
   "metadata": {},
   "source": [
    "### Héritage"
   ]
  },
  {
   "cell_type": "markdown",
   "metadata": {},
   "source": [
    "L'héritage est une fonctionnalité qui permet de définir une classe \"fille\" à  partir d'une autre classe \"mère\". La classe fille hérite alors  automatiquement de tout les attributs et de toutes les méthodes de la classe mère.  "
   ]
  },
  {
   "cell_type": "code",
   "execution_count": 38,
   "metadata": {
    "collapsed": true
   },
   "outputs": [],
   "source": [
    "class EleveSpecial(Eleve):\n",
    "    \n",
    "    def __init__(self, nom, prenom, optionName):\n",
    "        Eleve.__init__(self, nom, prenom)\n",
    "        self._optionName = optionName\n",
    "        self._optionNotes = []\n",
    "\n",
    "    def getNotesOption(self):\n",
    "        \"\"\" retourne les notes de l'élève\"\"\"\n",
    "        return self._optionNotes\n",
    "    \n",
    "    def addNoteOption(self, note):\n",
    "        \"\"\" ajoute la note 'note' à la liste de note de l'élève\"\"\"\n",
    "        self._optionNotes.append(note)"
   ]
  },
  {
   "cell_type": "code",
   "execution_count": 39,
   "metadata": {
    "collapsed": false
   },
   "outputs": [],
   "source": [
    "eleve2 = EleveSpecial(\"Sam\",\"Stress\",\"latin\")"
   ]
  },
  {
   "cell_type": "code",
   "execution_count": 40,
   "metadata": {
    "collapsed": false
   },
   "outputs": [
    {
     "name": "stdout",
     "output_type": "stream",
     "text": [
      "[14] [12]\n"
     ]
    }
   ],
   "source": [
    "eleve2.addNote(14)\n",
    "print eleve2.getNotes(),\n",
    "eleve2.addNoteOption(12)\n",
    "print eleve2.getNotesOption(),"
   ]
  },
  {
   "cell_type": "markdown",
   "metadata": {},
   "source": [
    "### Classe Scikit Learn"
   ]
  },
  {
   "cell_type": "markdown",
   "metadata": {},
   "source": [
    "Les méthodes d'apprentissages statistiques de la librairie Scikit-Learn sont un parfait exemple d'utilisation de classe. Sans entrer en détails dans l'implémentation de cette méthode, nous allons étudier le cas de la Régression linéaire par moindre carré. \n",
    "\n",
    "L'objet LinearRegression est une classe qui est inité avec les attributs suivants:\n",
    "\n",
    "- fit_intercept : si la valeur 'intercept' doit être calculé ou considéré à 0\n",
    "- normalize : si le jeux d'apprentissage sera normalisé avant la regression\n",
    "- copy_X : si le jeux d'apprentissage sera copié pour éviter les effets de bords\n",
    "- n_jobs : le nombre de processeur à utiliser"
   ]
  },
  {
   "cell_type": "code",
   "execution_count": 41,
   "metadata": {
    "collapsed": false
   },
   "outputs": [
    {
     "name": "stdout",
     "output_type": "stream",
     "text": [
      "True False True 1\n"
     ]
    }
   ],
   "source": [
    "from sklearn.linear_model import LinearRegression\n",
    "lr = LinearRegression(fit_intercept=True, normalize=False, copy_X=True, n_jobs=1)\n",
    "print lr.fit_intercept, lr.normalize, lr.copy_X, lr.n_jobs"
   ]
  },
  {
   "cell_type": "markdown",
   "metadata": {},
   "source": [
    "La classe LinearRegression possède également des attributs qui seront ensuite mis à jour à l'aide des méthodes:\n",
    "\n",
    "- coef_ : Les coefficients estimés \n",
    "- residues_ : somme des résidues\n",
    "- intercept_ : L'intercept\n",
    "\n",
    "La méthode fit de cette classe est un \"mutator\", elle prend en paramètre le jeux d'apprentissage, X_train et la variable réponse correspondante, Y_train et va estimer les paramètres de la regression linéaire et ainsi mettre à jour les attributs correspondants."
   ]
  },
  {
   "cell_type": "code",
   "execution_count": 42,
   "metadata": {
    "collapsed": false
   },
   "outputs": [
    {
     "name": "stderr",
     "output_type": "stream",
     "text": [
      "/Users/bguillouet/Insa/cours_insa_2016/lib/python2.7/site-packages/scipy/linalg/basic.py:884: RuntimeWarning: internal gelsd driver lwork query error, required iwork dimension not returned. This is likely the result of LAPACK bug 0038, fixed in LAPACK 3.2.2 (released July 21, 2010). Falling back to 'gelss' driver.\n",
      "  warnings.warn(mesg, RuntimeWarning)\n"
     ]
    },
    {
     "data": {
      "text/plain": [
       "array([ 0.5,  0.5])"
      ]
     },
     "execution_count": 42,
     "metadata": {},
     "output_type": "execute_result"
    }
   ],
   "source": [
    "X_train=[[0, 0], [1, 1], [2, 2]]\n",
    "Y_train =  [0, 1, 2]\n",
    "lr.fit (X_train, Y_train)\n",
    "lr.coef_\n"
   ]
  },
  {
   "cell_type": "markdown",
   "metadata": {},
   "source": [
    "La classe LinearRegression possède aussi d'autre méthode qui utilise les attributs de la classe telle que:\n",
    "\n",
    "- predict: predit la variable de réponse d'un jeu test X_train\n",
    "- score: Retourn le coefficient R^2 de la prédictio.\n"
   ]
  },
  {
   "cell_type": "code",
   "execution_count": 43,
   "metadata": {
    "collapsed": false
   },
   "outputs": [
    {
     "name": "stdout",
     "output_type": "stream",
     "text": [
      "(array([ 1.5,  3. ,  7.2]), 0.97702029873611651)\n"
     ]
    }
   ],
   "source": [
    "X_test = [[1.5,1.5],[2,4],[7.3,7.1]]\n",
    "Y_test = [1.5,2.4,7]\n",
    "pred = lr.predict(X_test)\n",
    "s = lr.score(X_test,Y_test)\n",
    "print(pred,s)"
   ]
  },
  {
   "cell_type": "markdown",
   "metadata": {
    "collapsed": true
   },
   "source": [
    "## Packing et Unpacking\n",
    "\n",
    "\n",
    "\n",
    "L'opérateur \\* va permettre, selon la situation, de \"paquéter\" ou \"dépaquéter\" les éléments d'une liste.\n",
    "<br>L'opérateur \\*\\* va permettre, selon la situation, de \"paquéter\" ou \"dépaquéter\" les éléments d'un dictionnaire"
   ]
  },
  {
   "cell_type": "markdown",
   "metadata": {},
   "source": [
    "### L'unpacking\n",
    "\n",
    "Dans l'exemple ci-dessous. Les opérateurs \\* et \\*\\* vont permettre de dépaqueter les listes et dictionnaires pour les passer en arguments de fonctions."
   ]
  },
  {
   "cell_type": "code",
   "execution_count": 44,
   "metadata": {
    "collapsed": false
   },
   "outputs": [
    {
     "name": "stdout",
     "output_type": "stream",
     "text": [
      "3 4\n",
      "4 8\n"
     ]
    }
   ],
   "source": [
    "def unpacking_list_and_print(a, b):\n",
    "    print a,\n",
    "    print b\n",
    "listarg = [3,4]\n",
    "unpacking_list_and_print(*listarg)\n",
    "    \n",
    "def unpacking_dict_and_print(k1=0, k2=0):\n",
    "    print k1,\n",
    "    print k2,\n",
    "dictarg = {'k1':4, 'k2':8}\n",
    "unpacking_dict_and_print(**dictarg)"
   ]
  },
  {
   "cell_type": "markdown",
   "metadata": {},
   "source": [
    "### Le packing\n",
    "Ces opérateurs sont surtout utile dans le sens du \"packing\". Les fonctions sont alors défini de sorte à recevoir un nombre inconnu d'argument qui seront ensuite \"paquétés\" et traité dans la fonction.\n",
    "\n",
    "L'argument \\*args permet à la fonction de recevoir un nombre supplémentaire inconnu d'arguments sans keyword."
   ]
  },
  {
   "cell_type": "code",
   "execution_count": 45,
   "metadata": {
    "collapsed": false
   },
   "outputs": [
    {
     "name": "stdout",
     "output_type": "stream",
     "text": [
      "arg Nécessaire: 1\n",
      "args 0: two\n",
      "args 1: 3\n",
      "arg Nécessaire: 1\n",
      "args 0: two\n",
      "args 1: [1, 2, 3]\n",
      "args 2: {'a': 1, 'c': 3, 'b': 2}\n"
     ]
    }
   ],
   "source": [
    "\n",
    "def packing_and_print_args(required_arg, *args):\n",
    "    print \"arg Nécessaire:\", required_arg\n",
    "    for i, arg in enumerate(args):\n",
    "        print \"args %d:\" %i, arg\n",
    "\n",
    "packing_and_print_args(1, \"two\", 3)\n",
    "packing_and_print_args(1, \"two\", [1,2,3],{\"a\":1,\"b\":2,\"c\":3})"
   ]
  },
  {
   "cell_type": "markdown",
   "metadata": {},
   "source": [
    "L'argument \\*\\*kwargs permet à la fonction de recevoir un nombre supplémentaire inconnu d'arguments avec keyword."
   ]
  },
  {
   "cell_type": "code",
   "execution_count": 46,
   "metadata": {
    "collapsed": false
   },
   "outputs": [
    {
     "name": "stdout",
     "output_type": "stream",
     "text": [
      "kwarg défini: 1\n",
      "kwarg 0: sup_arg2 3\n",
      "kwarg 1: sup_arg1 two\n",
      "kwarg défini: 2\n",
      "kwarg 0: sup_arg3 [1, 2, 3]\n",
      "kwarg 1: sup_arg2 3\n",
      "kwarg 2: sup_arg1 two\n"
     ]
    }
   ],
   "source": [
    "def packing_and_print_kwargs(def_kwarg=2, **kwargs):\n",
    "    print \"kwarg défini:\", def_kwarg\n",
    "    for i,(k,v) in enumerate(kwargs.items()):\n",
    "        print \"kwarg %d:\" %i ,k , v \n",
    "\n",
    "packing_and_print_kwargs(def_kwarg=1, sup_arg1=\"two\", sup_arg2=3)\n",
    "packing_and_print_kwargs(sup_arg1=\"two\", sup_arg2=3, sup_arg3=[1,2,3])"
   ]
  },
  {
   "cell_type": "markdown",
   "metadata": {},
   "source": [
    "Les arguments \\*args et \\*\\*kwargs peuvent être combiner dans une autre fonctions."
   ]
  },
  {
   "cell_type": "code",
   "execution_count": 47,
   "metadata": {
    "collapsed": false
   },
   "outputs": [
    {
     "name": "stdout",
     "output_type": "stream",
     "text": [
      "arg Nécessaire: 1\n",
      "args 0: [1, 2, 3]\n",
      "kwarg défini: two\n",
      "kwarg 0: sup_arg2 3\n",
      "kwarg 1: sup_arg1 two\n"
     ]
    }
   ],
   "source": [
    "def packing_and_print_args_and_kwargs(required_arg ,def_kwarg=2, *args, **kwargs):\n",
    "    print \"arg Nécessaire:\", required_arg\n",
    "    for i, arg in enumerate(args):\n",
    "        print \"args %d:\" %i, arg\n",
    "    print \"kwarg défini:\", def_kwarg\n",
    "    for i,(k,v) in enumerate(kwargs.items()):\n",
    "        print \"kwarg %d:\" %i ,k , v \n",
    "\n",
    "packing_and_print_args_and_kwargs(1, \"two\", [1,2,3] ,sup_arg1=\"two\", sup_arg2=3 )"
   ]
  },
  {
   "cell_type": "markdown",
   "metadata": {},
   "source": [
    "Ces deux opérateurs sont très utiles lorsque l'on gére des classes lié par des héritages. Les arguments \\*args \\*\\*kwargs permettent de gérer la tranmission de cette héritage sans avoir à redéfinir les arguments à chaque étape."
   ]
  },
  {
   "cell_type": "code",
   "execution_count": 48,
   "metadata": {
    "collapsed": false
   },
   "outputs": [
    {
     "name": "stdout",
     "output_type": "stream",
     "text": [
      "Argument1\n",
      "Argument2\n"
     ]
    },
    {
     "data": {
      "text/plain": [
       "<__main__.Objet3Point0 at 0x10f5541d0>"
      ]
     },
     "execution_count": 48,
     "metadata": {},
     "output_type": "execute_result"
    }
   ],
   "source": [
    "class Objet(object):\n",
    "    def __init__(self, attribut=None, *args, **kwargs):\n",
    "        print attribut\n",
    "\n",
    "class Objet2Point0(Objet):\n",
    "    def __init__(self, *args, **kwargs):\n",
    "        super(Objet, self).__init__(*args, **kwargs)\n",
    "\n",
    "class Objet3Point0(Objet2Point0):\n",
    "    def __init__(self,attribut2=None, *args, **kwargs):\n",
    "        super(Objet2Point0, self).__init__(*args, **kwargs)\n",
    "        print attribut2\n",
    "\n",
    "my_data = {'attribut': 'Argument1', 'attribut2': 'Argument2'}\n",
    "Objet3Point0(**my_data)"
   ]
  },
  {
   "cell_type": "markdown",
   "metadata": {},
   "source": [
    "## Référence\n",
    "\n",
    "**Lambert K. et Osborne M.** (2010). *Fundamentals of Python: From First Programs Through Data Structures*, Course Technology."
   ]
  }
 ],
 "metadata": {
  "hide_input": false,
  "kernelspec": {
   "display_name": "Python 2",
   "language": "python",
   "name": "python2"
  },
  "language_info": {
   "codemirror_mode": {
    "name": "ipython",
    "version": 2
   },
   "file_extension": ".py",
   "mimetype": "text/x-python",
   "name": "python",
   "nbconvert_exporter": "python",
   "pygments_lexer": "ipython2",
   "version": "2.7.10"
  },
  "toc": {
   "nav_menu": {
    "height": "330px",
    "width": "252px"
   },
   "navigate_menu": true,
   "number_sections": true,
   "sideBar": true,
   "threshold": 4,
   "toc_cell": false,
   "toc_section_display": "block",
   "toc_window_display": true
  }
 },
 "nbformat": 4,
 "nbformat_minor": 0
}
